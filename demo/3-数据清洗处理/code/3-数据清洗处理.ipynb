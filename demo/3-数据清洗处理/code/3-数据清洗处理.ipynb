{
 "cells": [
  {
   "cell_type": "markdown",
   "metadata": {},
   "source": [
    "# 3 数据清洗处理\n",
    "## 读取文件"
   ]
  },
  {
   "cell_type": "code",
   "execution_count": 1,
   "metadata": {},
   "outputs": [],
   "source": [
    "import pandas as pd\n",
    "detail = pd.read_csv('../data/detail.csv', index_col=0,encoding = 'gbk')"
   ]
  },
  {
   "cell_type": "markdown",
   "metadata": {},
   "source": [
    "## 3.1 重复值处理\n",
    "### 3.1.1 记录去重\n",
    "#### 方法一：利用列表去重"
   ]
  },
  {
   "cell_type": "code",
   "execution_count": 2,
   "metadata": {},
   "outputs": [],
   "source": [
    "##定义去重函数\n",
    "def delRep(list1):\n",
    "    list2=[]\n",
    "    for i in list1:\n",
    "        if i not in list2:\n",
    "            list2.append(i)\n",
    "    return list2 "
   ]
  },
  {
   "cell_type": "code",
   "execution_count": 3,
   "metadata": {},
   "outputs": [
    {
     "name": "stdout",
     "output_type": "stream",
     "text": [
      "去重前菜品总数为： 10037\n",
      "方法一去重后菜品总数为： 145\n"
     ]
    }
   ],
   "source": [
    "dishes=list(detail['dishes_name']) ##将dishes_name从数据框中提取出来\n",
    "print('去重前菜品总数为：',len(dishes)) \n",
    "dish = delRep(dishes) ##使用自定义的去重函数去重\n",
    "print('方法一去重后菜品总数为：',len(dish))"
   ]
  },
  {
   "cell_type": "markdown",
   "metadata": {},
   "source": [
    "#### 方法二：利用集合的元素是唯一的特性去重"
   ]
  },
  {
   "cell_type": "code",
   "execution_count": 4,
   "metadata": {},
   "outputs": [
    {
     "name": "stdout",
     "output_type": "stream",
     "text": [
      "去重前菜品总数为： 10037\n",
      "方法二去重后菜品总数为： 145\n"
     ]
    }
   ],
   "source": [
    "print('去重前菜品总数为：',len(dishes)) \n",
    "dish_set = set(dishes) ##利用set的特性去重\n",
    "print('方法二去重后菜品总数为：',len(dish_set))"
   ]
  },
  {
   "cell_type": "markdown",
   "metadata": {},
   "source": [
    "#### 方法三：利用pandas库的drop_duplicates方法去重"
   ]
  },
  {
   "cell_type": "code",
   "execution_count": 5,
   "metadata": {},
   "outputs": [
    {
     "name": "stdout",
     "output_type": "stream",
     "text": [
      "去重前菜品总数为： 10037\n",
      "方法三去重后菜品总数为： 145\n"
     ]
    }
   ],
   "source": [
    "print('去重前菜品总数为：',len(dishes)) \n",
    "dishes_name = detail['dishes_name'].drop_duplicates()\n",
    "print('方法三去重后菜品总数为：',len(dishes_name))"
   ]
  },
  {
   "cell_type": "markdown",
   "metadata": {},
   "source": [
    "### 3.1.2 特征去重"
   ]
  },
  {
   "cell_type": "code",
   "execution_count": 6,
   "metadata": {},
   "outputs": [
    {
     "name": "stdout",
     "output_type": "stream",
     "text": [
      "detail的特征相等矩阵的前5行5列为：\n",
      "                    order_id  dishes_id  logicprn_name  parent_class_name  \\\n",
      "order_id               True      False          False              False   \n",
      "dishes_id             False       True          False              False   \n",
      "logicprn_name         False      False           True               True   \n",
      "parent_class_name     False      False           True               True   \n",
      "dishes_name           False      False          False              False   \n",
      "\n",
      "                   dishes_name  \n",
      "order_id                 False  \n",
      "dishes_id                False  \n",
      "logicprn_name            False  \n",
      "parent_class_name        False  \n",
      "dishes_name               True  \n"
     ]
    }
   ],
   "source": [
    "##定义求取特征是否完全相同的矩阵的函数\n",
    "def FeatureEquals(df):\n",
    "    dfEquals=pd.DataFrame([],columns=df.columns,index=df.columns)\n",
    "    for i in df.columns:\n",
    "       for j in df.columns:\n",
    "           dfEquals.loc[i,j]=df.loc[:,i].equals(df.loc[:,j])\n",
    "    return dfEquals\n",
    "## 应用上述函数\n",
    "detEquals=FeatureEquals(detail)\n",
    "print('detail的特征相等矩阵的前5行5列为：\\n',detEquals.iloc[:5,:5])"
   ]
  },
  {
   "cell_type": "code",
   "execution_count": 7,
   "metadata": {},
   "outputs": [
    {
     "name": "stdout",
     "output_type": "stream",
     "text": [
      "需要删除的列为： ['parent_class_name', 'cost', 'discount_amt', 'discount_reason', 'kick_back', 'add_info', 'bar_code', 'add_inprice']\n",
      "删除多余列后detail的特征数目为： 10\n"
     ]
    }
   ],
   "source": [
    "##遍历所有数据\n",
    "lenDet = detEquals.shape[0]\n",
    "dupCol = []\n",
    "for k in range(lenDet):\n",
    "    for l in range(k+1,lenDet):\n",
    "        if detEquals.iloc[k,l] & (detEquals.columns[l] not in dupCol):\n",
    "            dupCol.append(detEquals.columns[l])\n",
    "##进行去重操作\n",
    "print('需要删除的列为：',dupCol)\n",
    "detail.drop(dupCol,axis=1,inplace=True)\n",
    "print('删除多余列后detail的特征数目为：',detail.shape[1])"
   ]
  },
  {
   "cell_type": "markdown",
   "metadata": {},
   "source": [
    "## 3.2 缺失值处理\n",
    "### 3.2.1 利用isnull或notnull找到缺失值"
   ]
  },
  {
   "cell_type": "code",
   "execution_count": 8,
   "metadata": {},
   "outputs": [
    {
     "name": "stdout",
     "output_type": "stream",
     "text": [
      "detail每个特征缺失的数目为：\n",
      " order_id                0\n",
      "dishes_id               0\n",
      "logicprn_name       10037\n",
      "dishes_name             0\n",
      "itemis_add              0\n",
      "counts                  0\n",
      "amounts                 0\n",
      "place_order_time        0\n",
      "picture_file            0\n",
      "emp_id                  0\n",
      "dtype: int64\n",
      "detail每个特征非缺失的数目为：\n",
      " order_id            10037\n",
      "dishes_id           10037\n",
      "logicprn_name           0\n",
      "dishes_name         10037\n",
      "itemis_add          10037\n",
      "counts              10037\n",
      "amounts             10037\n",
      "place_order_time    10037\n",
      "picture_file        10037\n",
      "emp_id              10037\n",
      "dtype: int64\n"
     ]
    }
   ],
   "source": [
    "print('detail每个特征缺失的数目为：\\n',detail.isnull().sum())\n",
    "print('detail每个特征非缺失的数目为：\\n',detail.notnull().sum())"
   ]
  },
  {
   "cell_type": "markdown",
   "metadata": {},
   "source": [
    "### 3.2.2 删除法"
   ]
  },
  {
   "cell_type": "code",
   "execution_count": 9,
   "metadata": {},
   "outputs": [
    {
     "name": "stdout",
     "output_type": "stream",
     "text": [
      "去除缺失的列前detail的形状为： (10037, 10)\n",
      "去除缺失的列后detail的形状为： (10037, 9)\n"
     ]
    }
   ],
   "source": [
    "print('去除缺失的列前detail的形状为：', detail.shape)\n",
    "print('去除缺失的列后detail的形状为：', detail.dropna(axis = 1,how ='any').shape)"
   ]
  },
  {
   "cell_type": "markdown",
   "metadata": {},
   "source": [
    "### 3.2.3 替换法"
   ]
  },
  {
   "cell_type": "code",
   "execution_count": 10,
   "metadata": {},
   "outputs": [
    {
     "name": "stdout",
     "output_type": "stream",
     "text": [
      "detail每个特征缺失的数目为：\n",
      " order_id            0\n",
      "dishes_id           0\n",
      "logicprn_name       0\n",
      "dishes_name         0\n",
      "itemis_add          0\n",
      "counts              0\n",
      "amounts             0\n",
      "place_order_time    0\n",
      "picture_file        0\n",
      "emp_id              0\n",
      "dtype: int64\n"
     ]
    }
   ],
   "source": [
    "detail = detail.fillna(-99)\n",
    "print('detail每个特征缺失的数目为：\\n',detail.isnull().sum())"
   ]
  },
  {
   "cell_type": "markdown",
   "metadata": {},
   "source": [
    "### 3.2.4 插值法"
   ]
  },
  {
   "cell_type": "code",
   "execution_count": 11,
   "metadata": {},
   "outputs": [],
   "source": [
    "## 数据准备\n",
    "import numpy as np\n",
    "from scipy.interpolate import interp1d\n",
    "x=np.array([1,2,3,4,5,8,9,10]) ##创建自变量x\n",
    "y1=np.array([2,8,18,32,50,128,162,200]) ##创建因变量y1\n",
    "y2=np.array([3,5,7,9,11,17,19,21]) ##创建因变量y2"
   ]
  },
  {
   "cell_type": "markdown",
   "metadata": {},
   "source": [
    "#### 1. 线性插值"
   ]
  },
  {
   "cell_type": "code",
   "execution_count": 12,
   "metadata": {},
   "outputs": [
    {
     "name": "stdout",
     "output_type": "stream",
     "text": [
      "当x为6、7时，使用线性插值y1为： [ 76. 102.]\n",
      "当x为6、7时，使用线性插值y2为： [13. 15.]\n"
     ]
    }
   ],
   "source": [
    "LinearInsValue1 = interp1d(x,y1,kind='linear') ##线性插值拟合x,y1\n",
    "LinearInsValue2 = interp1d(x,y2,kind='linear') ##线性插值拟合x,y2\n",
    "print('当x为6、7时，使用线性插值y1为：',LinearInsValue1([6,7]))\n",
    "print('当x为6、7时，使用线性插值y2为：',LinearInsValue2([6,7]))"
   ]
  },
  {
   "cell_type": "markdown",
   "metadata": {},
   "source": [
    "#### 2. 多项式插值"
   ]
  },
  {
   "cell_type": "code",
   "execution_count": 13,
   "metadata": {},
   "outputs": [
    {
     "name": "stdout",
     "output_type": "stream",
     "text": [
      "当x为6,7时，使用多项式插值y1为： [72. 98.]\n",
      "当x为6,7时，使用多项式插值y2为： [13. 15.]\n"
     ]
    }
   ],
   "source": [
    "from scipy.interpolate import lagrange\n",
    "LargeInsValue1 = lagrange(x,y1) ##拉格朗日插值拟合x,y1\n",
    "LargeInsValue2 = lagrange(x,y2) ##拉格朗日插值拟合x,y2\n",
    "print('当x为6,7时，使用多项式插值y1为：',LargeInsValue1([6,7]))\n",
    "print('当x为6,7时，使用多项式插值y2为：',LargeInsValue2([6,7]))"
   ]
  },
  {
   "cell_type": "markdown",
   "metadata": {},
   "source": [
    "#### 3. 样条插值"
   ]
  },
  {
   "cell_type": "code",
   "execution_count": 14,
   "metadata": {
    "scrolled": true
   },
   "outputs": [
    {
     "name": "stdout",
     "output_type": "stream",
     "text": [
      "当x为6,7时，使用样条插值y1为： [72. 98.]\n",
      "当x为6,7时，使用样条插值y2为： [13. 15.]\n"
     ]
    }
   ],
   "source": [
    "from scipy.interpolate import make_interp_spline\n",
    "##样条插值拟合x,y1\n",
    "SplineInsValue1 = make_interp_spline(x,y1)(np.array([6,7]))\n",
    "##样条插值拟合x,y2\n",
    "SplineInsValue2 = make_interp_spline(x,y2)(np.array([6,7]))\n",
    "print('当x为6,7时，使用样条插值y1为：',SplineInsValue1)\n",
    "print('当x为6,7时，使用样条插值y2为：',SplineInsValue2)"
   ]
  },
  {
   "cell_type": "markdown",
   "metadata": {},
   "source": [
    "## 3.3 异常值处理\n",
    "### 3.3.1 拉依达准则"
   ]
  },
  {
   "cell_type": "code",
   "execution_count": 15,
   "metadata": {},
   "outputs": [
    {
     "name": "stdout",
     "output_type": "stream",
     "text": [
      "使用拉依达准则判定异常值个数为: 209\n",
      "异常值的最大值为： 10\n",
      "异常值的最小值为： 3\n"
     ]
    }
   ],
   "source": [
    "## 定义拉依达准则识别异常值函数\n",
    "def outRange(Ser1):\n",
    "    boolInd = (Ser1.mean()-3*Ser1.std()>Ser1) | \\\n",
    "    (Ser1.mean()+3*Ser1.var()< Ser1)\n",
    "    index = np.arange(Ser1.shape[0])[boolInd]\n",
    "    outrange = Ser1.iloc[index]\n",
    "    return outrange\n",
    "outlier = outRange(detail['counts'])\n",
    "print('使用拉依达准则判定异常值个数为:',outlier.shape[0])\n",
    "print('异常值的最大值为：',outlier.max())\n",
    "print('异常值的最小值为：',outlier.min())"
   ]
  },
  {
   "cell_type": "markdown",
   "metadata": {},
   "source": [
    "### 3.3.2 箱线图分析"
   ]
  },
  {
   "cell_type": "code",
   "execution_count": 16,
   "metadata": {},
   "outputs": [
    {
     "data": {
      "image/png": "[encoded data removed]",
      "text/plain": [
       "<Figure size 720x576 with 1 Axes>"
      ]
     },
     "metadata": {
      "needs_background": "light"
     },
     "output_type": "display_data"
    },
    {
     "name": "stdout",
     "output_type": "stream",
     "text": [
      "销售量数据异常值个数为： 516\n",
      "销售量数据异常值的最大值为： 10\n",
      "销售量数据异常值的最小值为： 2\n"
     ]
    }
   ],
   "source": [
    "import matplotlib.pyplot as plt\n",
    "plt.figure(figsize=(10,8)) \n",
    "p = plt.boxplot(detail['counts'].values,notch=True)   ##画出箱线图\n",
    "outlier1 = p['fliers'][0].get_ydata()   ##fliers为异常值的标签\n",
    "plt.show()\n",
    "print('销售量数据异常值个数为：',len(outlier1))\n",
    "print('销售量数据异常值的最大值为：',max(outlier1))\n",
    "print('销售量数据异常值的最小值为：',min(outlier1))"
   ]
  }
 ],
 "metadata": {
  "kernelspec": {
   "display_name": "Python 3",
   "language": "python",
   "name": "python3"
  },
  "language_info": {
   "codemirror_mode": {
    "name": "ipython",
    "version": 3
   },
   "file_extension": ".py",
   "mimetype": "text/x-python",
   "name": "python",
   "nbconvert_exporter": "python",
   "pygments_lexer": "ipython3",
   "version": "3.6.10"
  }
 },
 "nbformat": 4,
 "nbformat_minor": 4
}
