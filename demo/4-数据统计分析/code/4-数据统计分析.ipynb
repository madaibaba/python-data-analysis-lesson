{
 "cells": [
  {
   "cell_type": "markdown",
   "metadata": {},
   "source": [
    "# 4 数据统计分析\n",
    "## 4.1 创建数组对象"
   ]
  },
  {
   "cell_type": "code",
   "execution_count": 1,
   "metadata": {},
   "outputs": [
    {
     "name": "stdout",
     "output_type": "stream",
     "text": [
      "创建的数组为：  [1 2 3 4]\n",
      "索引结果为： 4\n",
      "索引结果为： [3 4]\n",
      "索引结果为： [1]\n",
      "索引结果为： 4\n"
     ]
    }
   ],
   "source": [
    "import numpy as np #导入 NumPy 库 \n",
    "arr1 = np.array([1, 2, 3, 4]) #创建一维数组 \n",
    "print('创建的数组为： ',arr1)\n",
    "print('索引结果为：',arr1[3])\n",
    "print('索引结果为：',arr1[2:4])\n",
    "print('索引结果为：',arr1[:1])\n",
    "print('索引结果为：',arr1[-1])"
   ]
  },
  {
   "cell_type": "code",
   "execution_count": 2,
   "metadata": {},
   "outputs": [
    {
     "name": "stdout",
     "output_type": "stream",
     "text": [
      "创建的数组为：\n",
      " [[ 1  2  3  4]\n",
      " [ 4  5  6  7]\n",
      " [ 7  8  9 10]]\n",
      "数组类型为： int64\n",
      "数组元素个数为： 12\n",
      "数组每个元素大小为： 8\n"
     ]
    }
   ],
   "source": [
    "# 创建二维数组\n",
    "arr2 = np.array([[1, 2, 3, 4],[4, 5, 6, 7], [7, 8, 9, 10]])\n",
    "print('创建的数组为：\\n',arr2)\n",
    "print('数组类型为：',arr2.dtype)  #查看数组类型\n",
    "print('数组元素个数为：',arr2.size)  #查看数组元素个数\n",
    "print('数组每个元素大小为：',arr2.itemsize)  #查看数组每个元素大小、"
   ]
  },
  {
   "cell_type": "markdown",
   "metadata": {},
   "source": [
    "## 4.2 创建矩阵对象"
   ]
  },
  {
   "cell_type": "code",
   "execution_count": 3,
   "metadata": {},
   "outputs": [
    {
     "name": "stdout",
     "output_type": "stream",
     "text": [
      "创建的矩阵为：\n",
      " [[1 2 3]\n",
      " [4 5 6]\n",
      " [7 8 9]]\n",
      "创建的矩阵为：\n",
      " [[123]\n",
      " [456]\n",
      " [789]]\n"
     ]
    }
   ],
   "source": [
    "import numpy as np  #导入NumPy库\n",
    "matr1 = np.mat(\"1 2 3;4 5 6;7 8 9\") #使用分号隔开数据\n",
    "print('创建的矩阵为：\\n',matr1)\n",
    "\n",
    "matr2 = np.matrix([[123],[456],[789]])\n",
    "print('创建的矩阵为：\\n',matr2)"
   ]
  },
  {
   "cell_type": "code",
   "execution_count": 4,
   "metadata": {},
   "outputs": [
    {
     "name": "stdout",
     "output_type": "stream",
     "text": [
      "创建的矩阵为：\n",
      " [[1 2 3]\n",
      " [4 5 6]\n",
      " [7 8 9]]\n",
      "创建的矩阵为：\n",
      " [[ 3  6  9]\n",
      " [12 15 18]\n",
      " [21 24 27]]\n",
      "矩阵相加结果为：\n",
      " [[ 4  8 12]\n",
      " [16 20 24]\n",
      " [28 32 36]]\n",
      "矩阵相减结果为：\n",
      " [[ -2  -4  -6]\n",
      " [ -8 -10 -12]\n",
      " [-14 -16 -18]]\n",
      "矩阵相乘结果为：\n",
      " [[ 90 108 126]\n",
      " [198 243 288]\n",
      " [306 378 450]]\n",
      "矩阵对应元素相乘结果为：\n",
      " [[  3  12  27]\n",
      " [ 48  75 108]\n",
      " [147 192 243]]\n"
     ]
    }
   ],
   "source": [
    "matr1 = np.mat(\"1 2 3;4 5 6;7 8 9\")  #创建矩阵\n",
    "print('创建的矩阵为：\\n',matr1)\n",
    "\n",
    "matr2 = matr1*3  #矩阵与数相乘\n",
    "print('创建的矩阵为：\\n',matr2)\n",
    "print('矩阵相加结果为：\\n',matr1+matr2)  #矩阵相加\n",
    "print('矩阵相减结果为：\\n',matr1-matr2)  #矩阵相减\n",
    "print('矩阵相乘结果为：\\n',matr1*matr2)  #矩阵相乘\n",
    "print('矩阵对应元素相乘结果为：\\n',np.multiply(matr1,matr2))"
   ]
  },
  {
   "cell_type": "markdown",
   "metadata": {},
   "source": [
    "## 4.3 简单统计分析"
   ]
  },
  {
   "cell_type": "code",
   "execution_count": 5,
   "metadata": {},
   "outputs": [
    {
     "name": "stdout",
     "output_type": "stream",
     "text": [
      "创建的数组为： [7 4 8 5 7 3 7 8 5 4]\n",
      "排序后数组为： [3 4 4 5 5 7 7 7 8 8]\n",
      "去重后的数组为： [3 4 5 7 8]\n"
     ]
    }
   ],
   "source": [
    "np.random.seed(42)  #设置随机种子\n",
    "arr = np.random.randint(1,10,size = 10)  #生成随机数\n",
    "print('创建的数组为：',arr)\n",
    "\n",
    "arr.sort()  #直接排序\n",
    "print('排序后数组为：',arr)\n",
    "print('去重后的数组为：',np.unique(arr))"
   ]
  },
  {
   "cell_type": "markdown",
   "metadata": {},
   "source": [
    "## 4.4 拆分数据\n",
    "### groupby方法"
   ]
  },
  {
   "cell_type": "code",
   "execution_count": 6,
   "metadata": {},
   "outputs": [
    {
     "name": "stdout",
     "output_type": "stream",
     "text": [
      "分组后的订单详情表为： <pandas.core.groupby.generic.DataFrameGroupBy object at 0x7ffd7b5b2e10>\n",
      "订单详情表分组后前5组每组的均值为：\n",
      "             counts    amounts\n",
      "order_id                     \n",
      "137       1.500000  32.333333\n",
      "165       1.166667  52.944444\n",
      "166       1.400000  48.200000\n",
      "171       1.428571  36.285714\n",
      "177       1.000000  34.250000\n"
     ]
    }
   ],
   "source": [
    "import pandas as pd\n",
    "import numpy as np\n",
    "\n",
    "detail = pd.read_table('../data/meal_order_detail.csv', sep = ',',encoding = 'utf')\n",
    "detailGroup = detail[['order_id','counts', 'amounts']].groupby(by = 'order_id')\n",
    "print('分组后的订单详情表为：',detailGroup)\n",
    "print('订单详情表分组后前5组每组的均值为：\\n', detailGroup.mean().head())"
   ]
  },
  {
   "cell_type": "markdown",
   "metadata": {},
   "source": [
    "## 4.5 聚合数据\n",
    "### agg方法"
   ]
  },
  {
   "cell_type": "code",
   "execution_count": 7,
   "metadata": {},
   "outputs": [
    {
     "name": "stdout",
     "output_type": "stream",
     "text": [
      "订单详情表的菜品销量与售价的和与均值为：\n",
      "            counts        amounts\n",
      "sum   3088.000000  125992.000000\n",
      "mean     1.111191      45.337172\n"
     ]
    }
   ],
   "source": [
    "print('订单详情表的菜品销量与售价的和与均值为：\\n',\n",
    "      detail[['counts','amounts']].agg([np.sum,np.mean]))"
   ]
  },
  {
   "cell_type": "markdown",
   "metadata": {},
   "source": [
    "### apply方法"
   ]
  },
  {
   "cell_type": "code",
   "execution_count": 8,
   "metadata": {},
   "outputs": [
    {
     "name": "stdout",
     "output_type": "stream",
     "text": [
      "订单详情表的菜品销量与售价的均值为：\n",
      " counts      1.111191\n",
      "amounts    45.337172\n",
      "dtype: float64\n"
     ]
    }
   ],
   "source": [
    "print('订单详情表的菜品销量与售价的均值为：\\n',\n",
    "      detail[['counts','amounts']].apply(np.mean))"
   ]
  },
  {
   "cell_type": "markdown",
   "metadata": {},
   "source": [
    "### transform方法"
   ]
  },
  {
   "cell_type": "code",
   "execution_count": 9,
   "metadata": {},
   "outputs": [
    {
     "name": "stdout",
     "output_type": "stream",
     "text": [
      "订单详情表的菜品销量与售价的两倍为：\n",
      "    counts  amounts\n",
      "0       2       98\n",
      "1       2       96\n",
      "2       2       60\n",
      "3       2       50\n"
     ]
    }
   ],
   "source": [
    "print('订单详情表的菜品销量与售价的两倍为：\\n',\n",
    "      detail[['counts','amounts']].transform(lambda x:x*2).head(4))"
   ]
  },
  {
   "cell_type": "markdown",
   "metadata": {},
   "source": [
    "## 4.6 创建透视表"
   ]
  },
  {
   "cell_type": "code",
   "execution_count": 10,
   "metadata": {},
   "outputs": [
    {
     "name": "stdout",
     "output_type": "stream",
     "text": [
      "以order_id作为分组键创建的订单透视表为：\n",
      "             amounts    counts\n",
      "order_id                     \n",
      "137       32.333333  1.500000\n",
      "165       52.944444  1.166667\n",
      "166       48.200000  1.400000\n",
      "171       36.285714  1.428571\n",
      "177       34.250000  1.000000\n",
      "193       29.750000  1.000000\n",
      "201       29.500000  1.250000\n",
      "203       34.000000  1.000000\n",
      "239       45.500000  1.000000\n",
      "242       32.500000  1.833333\n"
     ]
    }
   ],
   "source": [
    "import pandas as pd\n",
    "import numpy as np\n",
    "\n",
    "detail = pd.read_table('../data/meal_order_detail.csv', sep = ',',encoding = 'utf')\n",
    "detailPivot = pd.pivot_table(detail[[\n",
    "      'order_id','counts','amounts']],\n",
    "      index = 'order_id')\n",
    "print('以order_id作为分组键创建的订单透视表为：\\n',\n",
    "       detailPivot.head(10))"
   ]
  },
  {
   "cell_type": "markdown",
   "metadata": {},
   "source": [
    "## 4.7 创建交叉表"
   ]
  },
  {
   "cell_type": "code",
   "execution_count": 11,
   "metadata": {},
   "outputs": [
    {
     "name": "stdout",
     "output_type": "stream",
     "text": [
      "以order_id和dishes_name为分组键counts为值的透视表前5行5列为：\n",
      " dishes_name   42度海之蓝   北冰洋汽水   38度剑南春   50度古井贡酒  52度泸州老窖 \n",
      "order_id                                                 \n",
      "137              NaN      NaN      NaN      NaN       NaN\n",
      "165              NaN      NaN      1.0      NaN       NaN\n",
      "166              NaN      NaN      NaN      NaN       NaN\n",
      "171              NaN      NaN      NaN      NaN       NaN\n",
      "177              NaN      NaN      NaN      NaN       NaN\n"
     ]
    }
   ],
   "source": [
    "detailCross = pd.crosstab(\n",
    "      index=detail['order_id'],\n",
    "      columns=detail['dishes_name'],\n",
    "      values = detail['counts'],aggfunc = np.sum)\n",
    "print('以order_id和dishes_name为分组键counts为值的透视表前5行5列为：\\n',detailCross.iloc[:5,:5])"
   ]
  }
 ],
 "metadata": {
  "kernelspec": {
   "display_name": "Python 3",
   "language": "python",
   "name": "python3"
  },
  "language_info": {
   "codemirror_mode": {
    "name": "ipython",
    "version": 3
   },
   "file_extension": ".py",
   "mimetype": "text/x-python",
   "name": "python",
   "nbconvert_exporter": "python",
   "pygments_lexer": "ipython3",
   "version": "3.6.10"
  }
 },
 "nbformat": 4,
 "nbformat_minor": 4
}
